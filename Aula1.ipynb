{
 "cells": [
  {
   "cell_type": "markdown",
   "metadata": {},
   "source": [
    "## Aula 1\n"
   ]
  },
  {
   "cell_type": "code",
   "execution_count": 12,
   "metadata": {},
   "outputs": [
    {
     "name": "stdout",
     "output_type": "stream",
     "text": [
      "Olá, caralho de asa bubonica\n"
     ]
    }
   ],
   "source": [
    "print(\"Olá, caralho de asa bubonica\")"
   ]
  },
  {
   "cell_type": "code",
   "execution_count": 25,
   "metadata": {},
   "outputs": [
    {
     "name": "stdout",
     "output_type": "stream",
     "text": [
      "Chico Fuluror \n",
      "\n",
      "69 \n",
      "\n",
      "666.666 \n",
      "\n",
      "True\n",
      "False\n"
     ]
    }
   ],
   "source": [
    "#string\n",
    "meunome = \"Chico Fuluror \\n\"\n",
    "print(meunome)\n",
    "\n",
    "#inteiro\n",
    "numero = \"69 \\n\"\n",
    "print(numero)\n",
    "\n",
    "#float\n",
    "numero1 = \"666.666 \\n\"\n",
    "print(numero1)\n",
    "\n",
    "#Booleanos\n",
    "meu_bool_1 = True\n",
    "meu_bool_2 = False\n",
    "\n",
    "print(meu_bool_1)\n",
    "print(meu_bool_2)"
   ]
  },
  {
   "cell_type": "markdown",
   "metadata": {},
   "source": [
    "## Meu personagem rpg"
   ]
  },
  {
   "cell_type": "code",
   "execution_count": 29,
   "metadata": {},
   "outputs": [
    {
     "ename": "ValueError",
     "evalue": "invalid literal for int() with base 10: ''",
     "output_type": "error",
     "traceback": [
      "\u001b[0;31m---------------------------------------------------------------------------\u001b[0m",
      "\u001b[0;31mValueError\u001b[0m                                Traceback (most recent call last)",
      "Cell \u001b[0;32mIn [29], line 3\u001b[0m\n\u001b[1;32m      1\u001b[0m nome \u001b[38;5;241m=\u001b[39m \u001b[38;5;28minput\u001b[39m(\u001b[38;5;124m\"\u001b[39m\u001b[38;5;124mDigite o nome do seu personagem: \u001b[39m\u001b[38;5;124m\"\u001b[39m)\n\u001b[1;32m      2\u001b[0m classe \u001b[38;5;241m=\u001b[39m \u001b[38;5;28minput\u001b[39m(\u001b[38;5;124m\"\u001b[39m\u001b[38;5;124mEscolha a classe do seu personagem: \u001b[39m\u001b[38;5;124m\"\u001b[39m)\n\u001b[0;32m----> 3\u001b[0m nivel \u001b[38;5;241m=\u001b[39m \u001b[38;5;28;43mint\u001b[39;49m\u001b[43m(\u001b[49m\u001b[38;5;28;43minput\u001b[39;49m\u001b[43m(\u001b[49m\u001b[38;5;124;43m\"\u001b[39;49m\u001b[38;5;124;43mDigite o nível do seu personagem: \u001b[39;49m\u001b[38;5;124;43m\"\u001b[39;49m\u001b[43m)\u001b[49m\u001b[43m)\u001b[49m\n\u001b[1;32m      4\u001b[0m race \u001b[38;5;241m=\u001b[39m \u001b[38;5;28minput\u001b[39m(\u001b[38;5;124m\"\u001b[39m\u001b[38;5;124mEscolha a Raça do seu personagem: \u001b[39m\u001b[38;5;124m\"\u001b[39m)\n\u001b[1;32m      5\u001b[0m pontos_vida \u001b[38;5;241m=\u001b[39m \u001b[38;5;28minput\u001b[39m(\u001b[38;5;124m\"\u001b[39m\u001b[38;5;124mDigite a sua vida máxima: \u001b[39m\u001b[38;5;124m\"\u001b[39m)\n",
      "\u001b[0;31mValueError\u001b[0m: invalid literal for int() with base 10: ''"
     ]
    }
   ],
   "source": [
    "nome = input(\"Digite o nome do seu personagem: \")\n",
    "classe = input(\"Escolha a classe do seu personagem: \")\n",
    "nivel = int(input(\"Digite o nível do seu personagem: \"))\n",
    "race = input(\"Escolha a Raça do seu personagem: \")\n",
    "pontos_vida = input(\"Digite a sua vida máxima: \")\n",
    "arma = (input(\"O seu personagem possui arma?\"))\n",
    "Alinhamento = (input(\"Escolha seu alinhamento\"))\n",
    "\n",
    "print(\"Bem vindo, \", nome, classe, \"da justiça\")\n",
    "print(\"Nível:\" , nivel)\n",
    "print(\"Pontos de vida:\" , pontos_vida)\n",
    "print(\"Arma de Escolha:\" , arma)\n",
    "print(\"Qual seu alinhamento?\" alinhamento)"
   ]
  },
  {
   "cell_type": "code",
   "execution_count": null,
   "metadata": {},
   "outputs": [],
   "source": []
  }
 ],
 "metadata": {
  "kernelspec": {
   "display_name": "Python 3",
   "language": "python",
   "name": "python3"
  },
  "language_info": {
   "codemirror_mode": {
    "name": "ipython",
    "version": 3
   },
   "file_extension": ".py",
   "mimetype": "text/x-python",
   "name": "python",
   "nbconvert_exporter": "python",
   "pygments_lexer": "ipython3",
   "version": "3.11.2"
  }
 },
 "nbformat": 4,
 "nbformat_minor": 2
}
